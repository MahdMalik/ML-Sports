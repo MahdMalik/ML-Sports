{
 "cells": [
  {
   "cell_type": "code",
   "execution_count": 15,
   "id": "6ca87a7b",
   "metadata": {},
   "outputs": [
    {
     "name": "stdout",
     "output_type": "stream",
     "text": [
      "1.16.1\n",
      "tf.Tensor(\n",
      "[[[[0.36727607 0.5812892  0.3382075 ]\n",
      "   [0.34428078 0.60589564 0.41563293]\n",
      "   [0.34039626 0.5655281  0.38113177]\n",
      "   [0.35466823 0.6403011  0.40432182]\n",
      "   [0.3364695  0.5375261  0.3753358 ]\n",
      "   [0.47575623 0.67586076 0.815754  ]\n",
      "   [0.44372225 0.47061938 0.6161275 ]\n",
      "   [0.59732735 0.55252963 0.25787717]\n",
      "   [0.5347773  0.3918764  0.2246131 ]\n",
      "   [0.5000789  0.3584857  0.5461282 ]\n",
      "   [0.4955294  0.3355862  0.3807939 ]\n",
      "   [0.7746345  0.5625905  0.49802983]\n",
      "   [0.74924916 0.4175235  0.5020223 ]\n",
      "   [0.7600435  0.545617   0.14871527]\n",
      "   [0.732331   0.3160424  0.17471263]\n",
      "   [0.7236688  0.29664153 0.28401735]\n",
      "   [0.7417898  0.30024636 0.2414978 ]]]], shape=(1, 1, 17, 3), dtype=float32)\n",
      "INFO:tensorflow:Assets written to: ./movenet_savedmodel\\assets\n"
     ]
    },
    {
     "name": "stderr",
     "output_type": "stream",
     "text": [
      "INFO:tensorflow:Assets written to: ./movenet_savedmodel\\assets\n"
     ]
    },
    {
     "name": "stdout",
     "output_type": "stream",
     "text": [
      "STDOUT: \n",
      "STDERR: WARNING:tensorflow:From c:\\Users\\mahd\\AppData\\Local\\Programs\\Python\\Python311\\Lib\\site-packages\\tf2onnx\\tf_loader.py:68: The name tf.reset_default_graph is deprecated. Please use tf.compat.v1.reset_default_graph instead.\n",
      "\n",
      "WARNING:tensorflow:From c:\\Users\\mahd\\AppData\\Local\\Programs\\Python\\Python311\\Lib\\site-packages\\tf2onnx\\tf_loader.py:72: The name tf.train.import_meta_graph is deprecated. Please use tf.compat.v1.train.import_meta_graph instead.\n",
      "\n",
      "<frozen runpy>:128: RuntimeWarning: 'tf2onnx.convert' found in sys.modules after import of package 'tf2onnx', but prior to execution of 'tf2onnx.convert'; this may result in unpredictable behaviour\n",
      "2025-07-30 20:02:58,299 - WARNING - ***IMPORTANT*** Installed protobuf is not cpp accelerated. Conversion will be extremely slow. See https://github.com/onnx/tensorflow-onnx/issues/1557\n",
      "2025-07-30 20:02:58,304 - WARNING - '--tag' not specified for saved_model. Using --tag serve\n",
      "2025-07-30 20:03:43,966 - INFO - Signatures found in model: [serving_default].\n",
      "2025-07-30 20:03:43,966 - WARNING - '--signature_def' not specified, using first signature: serving_default\n",
      "2025-07-30 20:03:43,966 - INFO - Output names: ['output_0']\n",
      "WARNING: All log messages before absl::InitializeLog() is called are written to STDERR\n",
      "I0000 00:00:1753923824.145332   26300 devices.cc:76] Number of eligible GPUs (core count >= 8, compute capability >= 0.0): 0 (Note: TensorFlow was not compiled with CUDA or ROCm support)\n",
      "I0000 00:00:1753923824.145651   26300 single_machine.cc:374] Starting new session\n",
      "I0000 00:00:1753923827.630256   26300 devices.cc:76] Number of eligible GPUs (core count >= 8, compute capability >= 0.0): 0 (Note: TensorFlow was not compiled with CUDA or ROCm support)\n",
      "I0000 00:00:1753923827.630510   26300 single_machine.cc:374] Starting new session\n",
      "2025-07-30 20:03:48,226 - INFO - Using tensorflow=2.19.0, onnx=1.17.0, tf2onnx=1.16.1/15c810\n",
      "2025-07-30 20:03:48,226 - INFO - Using opset <onnx, 14>\n",
      "2025-07-30 20:03:48,501 - INFO - Computed 0 values for constant folding\n",
      "2025-07-30 20:03:49,220 - INFO - Optimizing ONNX model\n",
      "2025-07-30 20:03:54,058 - INFO - After optimization: BatchNormalization -52 (55->3), Cast -17 (27->10), Const -292 (472->180), Identity -2 (2->0), Reshape -31 (40->9), Squeeze -2 (6->4), Transpose -284 (288->4), Unsqueeze -4 (16->12)\n",
      "2025-07-30 20:03:54,107 - INFO - \n",
      "2025-07-30 20:03:54,109 - INFO - Successfully converted TensorFlow model ./movenet_savedmodel to ONNX\n",
      "2025-07-30 20:03:54,109 - INFO - Model inputs: ['input']\n",
      "2025-07-30 20:03:54,109 - INFO - Model outputs: ['output_0']\n",
      "2025-07-30 20:03:54,109 - INFO - ONNX model is saved at ./movenet.onnx\n",
      "\n"
     ]
    }
   ],
   "source": [
    "# Import TF and TF Hub libraries.\n",
    "import tensorflow as tf\n",
    "import tensorflow_hub as hub\n",
    "import tf2onnx\n",
    "import subprocess\n",
    "print(tf2onnx.__version__)\n",
    "\n",
    "# Load the input image\n",
    "image_path = './kyokushi-nanaya.png'\n",
    "image = tf.io.read_file(image_path)\n",
    "image = tf.compat.v1.image.decode_jpeg(image)\n",
    "image = tf.expand_dims(image, axis=0)\n",
    "# Resize and pad the image to keep the aspect ratio and fit the expected size.\n",
    "image = tf.cast(tf.image.resize_with_pad(image, 192, 192), dtype=tf.int32)\n",
    "\n",
    "# Download the model from TF Hub.\n",
    "model = hub.load(\"https://www.kaggle.com/models/google/movenet/TensorFlow2/singlepose-lightning/4\")\n",
    "movenet = model.signatures['serving_default']\n",
    "\n",
    "# Run model inference.\n",
    "outputs = movenet(image)\n",
    "# Output is a [1, 1, 17, 3] tensor.\n",
    "keypoints = outputs['output_0']\n",
    "print(keypoints)\n",
    "\n",
    "tf.saved_model.save(model, \"./movenet_savedmodel\", signatures=model.signatures)\n",
    "\n",
    "result = subprocess.run([\"python\", \"-m\", \"tf2onnx.convert\", \"--saved-model\", \"./movenet_savedmodel\", \"--output\", \"./movenet.onnx\", \"--opset\", \"14\"], capture_output=True, text=True)\n",
    "\n",
    "print(\"STDOUT:\", result.stdout)\n",
    "print(\"STDERR:\", result.stderr)"
   ]
  }
 ],
 "metadata": {
  "kernelspec": {
   "display_name": "Python 3",
   "language": "python",
   "name": "python3"
  },
  "language_info": {
   "codemirror_mode": {
    "name": "ipython",
    "version": 3
   },
   "file_extension": ".py",
   "mimetype": "text/x-python",
   "name": "python",
   "nbconvert_exporter": "python",
   "pygments_lexer": "ipython3",
   "version": "3.11.0"
  }
 },
 "nbformat": 4,
 "nbformat_minor": 5
}
